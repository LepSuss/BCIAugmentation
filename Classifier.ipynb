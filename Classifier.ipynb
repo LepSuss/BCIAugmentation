{
 "cells": [
  {
   "cell_type": "markdown",
   "metadata": {},
   "source": [
    "This model is the classifier for the original datasets. Remember to check that you have filtering setting the way you want it :)"
   ]
  },
  {
   "cell_type": "code",
   "execution_count": 1,
   "metadata": {},
   "outputs": [],
   "source": [
    "from scipy.io import loadmat\n",
    "from glob import glob\n",
    "import numpy as np\n",
    "import pandas as pd\n",
    "import matplotlib.pyplot as plt\n",
    "from pymatreader import read_mat\n",
    "import tensorflow as tf\n",
    "from tensorflow import keras\n",
    "from keras import layers\n",
    "import numpy as np\n",
    "import matplotlib.pyplot as plt\n",
    "from sklearn.model_selection import train_test_split\n",
    "import eeg_funcs"
   ]
  },
  {
   "cell_type": "code",
   "execution_count": null,
   "metadata": {},
   "outputs": [],
   "source": [
    "# Preprocess and cut the BCI III data in to samples and form that in to a numpy array\n",
    "# labels in a seperate array\n",
    "\n",
    "# check the filepath!\n",
    "# remember to change the filtering to True/False\n",
    "filepath_3 = glob('GANs/data/Three/Train/*.mat')\n",
    "d_array, d_labels = eeg_funcs.get_data_for_classifier_comp3(filepath_3, False, True, True)\n",
    "print(d_array.shape)\n",
    "print(d_labels.shape)"
   ]
  },
  {
   "cell_type": "markdown",
   "metadata": {},
   "source": [
    "Classifier Modeling"
   ]
  },
  {
   "cell_type": "code",
   "execution_count": 3,
   "metadata": {},
   "outputs": [],
   "source": [
    "import tensorflow as tf\n",
    "from tensorflow import keras\n",
    "from tensorflow.keras import layers\n",
    "import numpy as np\n",
    "import matplotlib.pyplot as plt\n",
    "import os\n",
    "from zipfile import ZipFile\n",
    "from sklearn.model_selection import train_test_split"
   ]
  },
  {
   "cell_type": "code",
   "execution_count": 4,
   "metadata": {},
   "outputs": [
    {
     "name": "stdout",
     "output_type": "stream",
     "text": [
      "(40571, 160, 8)\n"
     ]
    }
   ],
   "source": [
    "# train and validation split for the data\n",
    "\n",
    "X_train, X_val, y_train, y_val = train_test_split(d_array, d_labels, train_size=0.8)\n",
    "print(X_train.shape)"
   ]
  },
  {
   "cell_type": "code",
   "execution_count": null,
   "metadata": {},
   "outputs": [],
   "source": [
    "# classifier model \n",
    "\n",
    "model = keras.Sequential(\n",
    "    [\n",
    "        keras.Input(shape=X_train.shape[1:]),\n",
    "        layers.BatchNormalization(),\n",
    "        layers.Conv1D(16, kernel_size=1, strides=1, padding=\"same\"),\n",
    "        layers.Conv1D(16, kernel_size=20, strides=20, padding=\"same\", activation=\"relu\"),\n",
    "        layers.BatchNormalization(),\n",
    "        layers.Flatten(),\n",
    "        layers.Dense(128, activation=\"tanh\"),\n",
    "        layers.Dropout(0.2),\n",
    "        layers.Dense(128, activation=\"tanh\"),\n",
    "        layers.Dropout(0.2),\n",
    "        layers.Dense(1, activation=\"sigmoid\"),\n",
    "    ]\n",
    ")\n",
    "model.summary()"
   ]
  },
  {
   "cell_type": "code",
   "execution_count": 6,
   "metadata": {},
   "outputs": [],
   "source": [
    "#compile the model\n",
    "# playing around with the optimizer parameters possible\n",
    "\n",
    "model.compile(\n",
    "    optimizer=keras.optimizers.Adam(learning_rate=0.0003),\n",
    "    loss=tf.keras.losses.BinaryCrossentropy(),\n",
    "    metrics=\"accuracy\",\n",
    "    )"
   ]
  },
  {
   "cell_type": "code",
   "execution_count": null,
   "metadata": {},
   "outputs": [],
   "source": [
    "#train the model\n",
    "# playing around with the batch size and epochs possible\n",
    "\n",
    "model.fit(\n",
    "    x=X_train,\n",
    "    y=y_train,\n",
    "    batch_size=64,\n",
    "    epochs=65,\n",
    "    validation_data=(X_val,y_val),\n",
    "    shuffle=True\n",
    ")"
   ]
  },
  {
   "cell_type": "code",
   "execution_count": null,
   "metadata": {},
   "outputs": [],
   "source": [
    "#putting the results of the latest training cycle in to a confusion matrix\n",
    "\n",
    "from sklearn.metrics import confusion_matrix\n",
    "from sklearn.metrics import ConfusionMatrixDisplay\n",
    "\n",
    "y_prediction = model.predict(X_val)\n",
    "y_prediction = y_prediction.flatten()\n",
    "y_prediction = np.where(y_prediction > 0.5, 1, 0)\n",
    "\n",
    "result = confusion_matrix(y_val, y_prediction, normalize='all')\n",
    "print(result)\n",
    "ConfusionMatrixDisplay(result).plot()\n",
    "\n",
    "#change a correct file location!\n",
    "plt.savefig(\"C:/Users/telab/Downloads/datafiles/pictures/CMatrix_Fil_Copies.png\")"
   ]
  },
  {
   "cell_type": "markdown",
   "metadata": {},
   "source": [
    "Evaluation of model on BCI 2 data"
   ]
  },
  {
   "cell_type": "code",
   "execution_count": null,
   "metadata": {},
   "outputs": [],
   "source": [
    "# Getting the BCI II competition data for final classification test\n",
    "# remember to check filepath!\n",
    "# remember to change the filtering to True/False\n",
    "filepath_2 = glob('GANs/data/train/*.mat')\n",
    "X_test, y_test = eeg_funcs.get_data_for_classifier_comp2(filepath_2, False, True, False)"
   ]
  },
  {
   "cell_type": "code",
   "execution_count": null,
   "metadata": {},
   "outputs": [],
   "source": [
    "#evaluation on the BCI II data\n",
    "\n",
    "model.evaluate(\n",
    "    x = X_test,\n",
    "    y = y_test,\n",
    "    batch_size = 64\n",
    ")"
   ]
  },
  {
   "cell_type": "code",
   "execution_count": null,
   "metadata": {},
   "outputs": [],
   "source": [
    "#Drawing confusion matrix from the BCI II test\n",
    "\n",
    "t_prediction = model.predict(X_test)\n",
    "t_prediction = t_prediction.flatten()\n",
    "test_t = t_prediction.round(2)\n",
    "t_prediction = np.where(t_prediction > 0.5, 1, 0)\n",
    "\n",
    "result = confusion_matrix(y_test, t_prediction, normalize='all')\n",
    "print(result)\n",
    "ConfusionMatrixDisplay(result).plot()\n",
    "plt.savefig(\"tempC.png\")"
   ]
  }
 ],
 "metadata": {
  "kernelspec": {
   "display_name": "Python 3.9.12",
   "language": "python",
   "name": "python3"
  },
  "language_info": {
   "codemirror_mode": {
    "name": "ipython",
    "version": 3
   },
   "file_extension": ".py",
   "mimetype": "text/x-python",
   "name": "python",
   "nbconvert_exporter": "python",
   "pygments_lexer": "ipython3",
   "version": "3.9.12"
  },
  "orig_nbformat": 4,
  "vscode": {
   "interpreter": {
    "hash": "aa3033555a115d7ce476fbe55cf089be360718b9dbd4a70ca4c85b5653615926"
   }
  }
 },
 "nbformat": 4,
 "nbformat_minor": 2
}
