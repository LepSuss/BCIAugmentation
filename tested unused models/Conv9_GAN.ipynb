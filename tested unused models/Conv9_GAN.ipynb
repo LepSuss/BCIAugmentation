{
  "cells": [
    {
      "cell_type": "code",
      "execution_count": 1,
      "metadata": {
        "id": "1ULaB2A3hG85"
      },
      "outputs": [],
      "source": [
        "from scipy.io import loadmat\n",
        "from glob import glob\n",
        "import numpy as np\n",
        "import pandas as pd\n",
        "import matplotlib.pyplot as plt\n",
        "from pymatreader import read_mat\n",
        "import tensorflow as tf\n",
        "from tensorflow import keras\n",
        "from keras import layers\n",
        "import numpy as np\n",
        "import matplotlib.pyplot as plt\n",
        "from sklearn.model_selection import train_test_split\n",
        "import eeg_funcs"
      ]
    },
    {
      "cell_type": "code",
      "execution_count": null,
      "metadata": {
        "colab": {
          "base_uri": "https://localhost:8080/"
        },
        "id": "WPfNwS-OhG88",
        "outputId": "3871cb0f-c298-420a-ca27-b6e33e9cfa74"
      },
      "outputs": [],
      "source": [
        "filepath = glob('data/train/*.mat')\n",
        "d_array, d_labels = eeg_funcs.get_comp2_array(filepath, True, True)\n",
        "print(d_array.shape)"
      ]
    },
    {
      "cell_type": "code",
      "execution_count": null,
      "metadata": {},
      "outputs": [],
      "source": [
        "d_array = d_array*1e6\n",
        "print(np.min(d_array), np.max(d_array))"
      ]
    },
    {
      "cell_type": "code",
      "execution_count": 4,
      "metadata": {},
      "outputs": [],
      "source": [
        "def normalize_data(data):\n",
        "    data = (data - np.min(data)) / (np.max(data) - np.min(data))\n",
        "    result = 2 * data - 1\n",
        "    return result"
      ]
    },
    {
      "cell_type": "code",
      "execution_count": null,
      "metadata": {},
      "outputs": [],
      "source": [
        "print(d_array[2875,:,5])\n",
        "d_array = normalize_data(d_array)\n",
        "print(d_array[2875,:,5])"
      ]
    },
    {
      "cell_type": "code",
      "execution_count": null,
      "metadata": {},
      "outputs": [],
      "source": [
        "print(d_array.shape, d_labels.shape)\n",
        "print(d_labels[2875])\n",
        "plt.plot(d_array[2875,:,5])"
      ]
    },
    {
      "cell_type": "code",
      "execution_count": 7,
      "metadata": {
        "colab": {
          "base_uri": "https://localhost:8080/"
        },
        "id": "rUqNkpy6hG89",
        "outputId": "eb33f5ad-919a-492a-dd56-c5645574ae46"
      },
      "outputs": [],
      "source": [
        "#t_array = np.expand_dims(d_array, axis=3)\n",
        "#data_array = t_array\n",
        "#data_array = tf.convert_to_tensor(data_array, dtype=tf.float32)\n",
        "data_array = tf.convert_to_tensor(d_array, dtype=tf.float32)"
      ]
    },
    {
      "cell_type": "code",
      "execution_count": 8,
      "metadata": {
        "id": "VYik07SPsFBM"
      },
      "outputs": [],
      "source": [
        "BUFFER_SIZE = 30000\n",
        "BATCH_SIZE = 64\n",
        "train_dataset = tf.data.Dataset.from_tensor_slices(data_array).shuffle(BUFFER_SIZE).batch(BATCH_SIZE)"
      ]
    },
    {
      "cell_type": "code",
      "execution_count": 9,
      "metadata": {
        "id": "PpG_xNbahG8-"
      },
      "outputs": [],
      "source": [
        "import tensorflow as tf\n",
        "from tensorflow import keras\n",
        "from tensorflow.keras import layers\n",
        "import numpy as np\n",
        "import matplotlib.pyplot as plt"
      ]
    },
    {
      "cell_type": "code",
      "execution_count": null,
      "metadata": {
        "colab": {
          "base_uri": "https://localhost:8080/"
        },
        "id": "jAi0ON59hG8_",
        "outputId": "09f82cbe-986e-4393-c5e7-ddccd43a5aa1"
      },
      "outputs": [],
      "source": [
        "discriminator = keras.Sequential(\n",
        "    [\n",
        "        keras.Input(shape=data_array.shape[1:]),\n",
        "        layers.Conv1D(64, kernel_size=2, strides=2, padding=\"same\"),\n",
        "        #layers.BatchNormalization(),\n",
        "        layers.LeakyReLU(alpha=0.2),\n",
        "        #layers.Dropout(0.3),\n",
        "        layers.Conv1D(64, kernel_size=2, strides=2, padding=\"same\"),\n",
        "        #layers.BatchNormalization(),\n",
        "        layers.LeakyReLU(alpha=0.2),\n",
        "        #layers.Dropout(0.3),\n",
        "        layers.Conv1D(64, kernel_size=2, strides=2, padding=\"same\"),\n",
        "        #layers.BatchNormalization(),\n",
        "        layers.LeakyReLU(alpha=0.2),\n",
        "        #layers.Dropout(0.3),\n",
        "        layers.Conv1D(64, kernel_size=2, strides=2, padding=\"same\"),\n",
        "        #layers.BatchNormalization(),\n",
        "        layers.LeakyReLU(alpha=0.2),\n",
        "        #layers.Dropout(0.3),\n",
        "        layers.Conv1D(64, kernel_size=2, strides=2, padding=\"same\"),\n",
        "        #layers.BatchNormalization(),\n",
        "        layers.LeakyReLU(alpha=0.2),\n",
        "        #layers.Dropout(0.3),\n",
        "        layers.Flatten(),\n",
        "        layers.Dense(1, activation=\"sigmoid\"),\n",
        "    ],\n",
        "    name=\"discriminator\",\n",
        ")\n",
        "discriminator.summary()"
      ]
    },
    {
      "cell_type": "code",
      "execution_count": null,
      "metadata": {
        "colab": {
          "base_uri": "https://localhost:8080/"
        },
        "id": "zyHuCoe1hG8_",
        "outputId": "32965a6e-5451-402d-fc9a-4a8ce0c45b6f"
      },
      "outputs": [],
      "source": [
        "latent_dim = 256\n",
        "\n",
        "generator = keras.Sequential(\n",
        "    [\n",
        "        keras.Input(shape=(latent_dim,)),\n",
        "        layers.Dense(5*256),\n",
        "        layers.LeakyReLU(alpha=0.2),\n",
        "        layers.Reshape((5, 256)),\n",
        "        layers.Conv1DTranspose(64, 2, strides=2, padding='same', use_bias=False),\n",
        "        #layers.BatchNormalization(),\n",
        "        layers.LeakyReLU(alpha=0.2),\n",
        "        layers.Conv1DTranspose(64, 2, strides=2, padding='same', use_bias=False),\n",
        "        #layers.BatchNormalization(),\n",
        "        layers.LeakyReLU(alpha=0.2),\n",
        "        layers.Conv1DTranspose(64, 2, strides=2, padding='same', use_bias=False),\n",
        "        #layers.BatchNormalization(),\n",
        "        layers.LeakyReLU(alpha=0.2),\n",
        "        layers.Conv1DTranspose(64, 2, strides=2, padding='same', use_bias=False),\n",
        "        #layers.BatchNormalization(),\n",
        "        layers.LeakyReLU(alpha=0.2),\n",
        "        layers.Conv1DTranspose(8, 2, strides=2, padding='same', use_bias=False, activation='tanh'),\n",
        "    ],\n",
        "    name=\"generator\",\n",
        ")\n",
        "generator.summary()"
      ]
    },
    {
      "cell_type": "code",
      "execution_count": 19,
      "metadata": {
        "id": "Jiiaz-O7hG9A"
      },
      "outputs": [],
      "source": [
        "class GAN(keras.Model):\n",
        "    def __init__(self, discriminator, generator, latent_dim):\n",
        "        super(GAN, self).__init__()\n",
        "        self.discriminator = discriminator\n",
        "        self.generator = generator\n",
        "        self.latent_dim = latent_dim\n",
        "\n",
        "    def compile(self, d_optimizer, g_optimizer, loss_fn):\n",
        "        super(GAN, self).compile()\n",
        "        self.d_optimizer = d_optimizer\n",
        "        self.g_optimizer = g_optimizer\n",
        "        self.loss_fn = loss_fn\n",
        "        self.d_loss_metric = keras.metrics.Mean(name=\"d_loss\")\n",
        "        self.g_loss_metric = keras.metrics.Mean(name=\"g_loss\")\n",
        "\n",
        "    @property\n",
        "    def metrics(self):\n",
        "        return [self.d_loss_metric, self.g_loss_metric]\n",
        "\n",
        "    def train_step(self, real_images):\n",
        "        # Sample random points in the latent space\n",
        "        batch_size = tf.shape(real_images)[0]\n",
        "        random_latent_vectors = tf.random.normal(shape=(batch_size, self.latent_dim))\n",
        "\n",
        "        # Decode them to fake images\n",
        "        generated_images = self.generator(random_latent_vectors)\n",
        "\n",
        "        # Combine them with real images\n",
        "        combined_images = tf.concat([generated_images, real_images], axis=0)\n",
        "\n",
        "        # Assemble labels discriminating real from fake images\n",
        "        labels = tf.concat(\n",
        "            [tf.ones((batch_size, 1)), tf.zeros((batch_size, 1))], axis=0\n",
        "        )\n",
        "        # Add random noise to the labels - important trick!\n",
        "        labels += 0.05 * tf.random.uniform(tf.shape(labels))\n",
        "\n",
        "        # Train the discriminator\n",
        "        with tf.GradientTape() as tape:\n",
        "            predictions = self.discriminator(combined_images)\n",
        "            d_loss = self.loss_fn(labels, predictions)\n",
        "        grads = tape.gradient(d_loss, self.discriminator.trainable_weights)\n",
        "        self.d_optimizer.apply_gradients(zip(grads, self.discriminator.trainable_weights))\n",
        "\n",
        "        # Sample random points in the latent space\n",
        "        random_latent_vectors = tf.random.normal(shape=(batch_size, self.latent_dim))\n",
        "\n",
        "        # Assemble labels that say \"all real images\"\n",
        "        misleading_labels = tf.zeros((batch_size, 1))\n",
        "\n",
        "        # Train the generator (note that we should *not* update the weights\n",
        "        # of the discriminator)!\n",
        "        with tf.GradientTape() as tape:\n",
        "            predictions = self.discriminator(self.generator(random_latent_vectors))\n",
        "            g_loss = self.loss_fn(misleading_labels, predictions)\n",
        "        grads = tape.gradient(g_loss, self.generator.trainable_weights)\n",
        "        self.g_optimizer.apply_gradients(zip(grads, self.generator.trainable_weights))\n",
        "\n",
        "        # Update metrics\n",
        "        self.d_loss_metric.update_state(d_loss)\n",
        "        self.g_loss_metric.update_state(g_loss)\n",
        "        return {\n",
        "            \"d_loss\": self.d_loss_metric.result(),\n",
        "            \"g_loss\": self.g_loss_metric.result(),\n",
        "        }"
      ]
    },
    {
      "cell_type": "code",
      "execution_count": 23,
      "metadata": {
        "id": "Q7Oc07eAhG9B"
      },
      "outputs": [],
      "source": [
        "class GANMonitor(keras.callbacks.Callback):\n",
        "    def __init__(self, num_img=1, latent_dim=100):\n",
        "        self.num_img = num_img\n",
        "        self.latent_dim = latent_dim\n",
        "\n",
        "    def on_epoch_end(self, epoch, logs=None):\n",
        "        random_latent_vectors = tf.random.normal(shape=(self.num_img, self.latent_dim))\n",
        "        generated_images = self.model.generator(random_latent_vectors)\n",
        "        generated_images.numpy()\n",
        "        for i in range(self.num_img):\n",
        "            img = generated_images[i]\n",
        "            img2 = img[:,5]\n",
        "            plt.plot(img2)\n",
        "            plt.savefig(\"Conv9testimages/single/generated_img_%03d_%d.png\" % (epoch, i))\n",
        "            plt.clf()\n",
        "            plt.plot(img)\n",
        "            plt.savefig(\"Conv9testimages/full/generated_img_%03d_%d.png\" % (epoch, i))\n",
        "            plt.clf()\n",
        "            ##img = keras.preprocessing.image.array_to_img(generated_images[i])\n",
        "            ##img.save(\"generated_img_%03d_%d.png\" % (epoch, i))"
      ]
    },
    {
      "cell_type": "code",
      "execution_count": 21,
      "metadata": {
        "id": "sxp2klLwhG9C"
      },
      "outputs": [],
      "source": [
        "checkpoint_filepath = 'checkpointConv9/checkpoint.{epoch:02d}'\n",
        "model_checkpoint_callback = tf.keras.callbacks.ModelCheckpoint(\n",
        "    filepath=checkpoint_filepath,\n",
        "    save_weights_only=True,\n",
        "    monitor='g_loss',\n",
        "    mode='min',\n",
        "    save_best_only=True)"
      ]
    },
    {
      "cell_type": "code",
      "execution_count": null,
      "metadata": {
        "colab": {
          "base_uri": "https://localhost:8080/",
          "height": 588
        },
        "id": "WW45xIsahG9C",
        "outputId": "f83cd130-67aa-4016-d5ca-0bae3e8eb107"
      },
      "outputs": [],
      "source": [
        "epochs = 3500  # In practice, use ~100 epochs\n",
        "\n",
        "gan = GAN(discriminator=discriminator, generator=generator, latent_dim=latent_dim)\n",
        "gan.compile(\n",
        "    d_optimizer=keras.optimizers.Adam(learning_rate=0.001, beta_1=0, beta_2=0.99),\n",
        "    g_optimizer=keras.optimizers.Adam(learning_rate=0.001, beta_1=0, beta_2=0.99),\n",
        "    loss_fn=keras.losses.BinaryCrossentropy(),\n",
        ")\n",
        "\n",
        "gan.fit(\n",
        "    train_dataset, epochs=epochs, callbacks=[GANMonitor(num_img=1, latent_dim=latent_dim), model_checkpoint_callback]\n",
        ")"
      ]
    }
  ],
  "metadata": {
    "accelerator": "GPU",
    "colab": {
      "name": "FirstTest.ipynb",
      "provenance": []
    },
    "gpuClass": "standard",
    "kernelspec": {
      "display_name": "Python 3.9.12",
      "language": "python",
      "name": "python3"
    },
    "language_info": {
      "codemirror_mode": {
        "name": "ipython",
        "version": 3
      },
      "file_extension": ".py",
      "mimetype": "text/x-python",
      "name": "python",
      "nbconvert_exporter": "python",
      "pygments_lexer": "ipython3",
      "version": "3.9.12"
    },
    "orig_nbformat": 4,
    "vscode": {
      "interpreter": {
        "hash": "aa3033555a115d7ce476fbe55cf089be360718b9dbd4a70ca4c85b5653615926"
      }
    }
  },
  "nbformat": 4,
  "nbformat_minor": 0
}
